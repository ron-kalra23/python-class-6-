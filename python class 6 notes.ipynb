{
 "cells": [
  {
   "cell_type": "raw",
   "id": "34ff018c",
   "metadata": {},
   "source": [
    "# Error and exception handling :\n",
    "#print(\"hello)\n",
    "here we will get syntax error because we didn't close the string so it will show us TypeError."
   ]
  },
  {
   "cell_type": "markdown",
   "id": "a04d30c3",
   "metadata": {},
   "source": [
    "for this errors handling we must understand try and except block:\n",
    "syntax\n",
    "\n",
    "\n",
    "\n",
    " try:\n",
    "            [code]      {if there will be an error in this block then it will go to plan A.or plan B}\n",
    "            \n",
    " except:\n",
    "             [code]   plan A   {if in try block there will be an error them it will go to this except block.control will come                                   to exceot block}\n",
    "             \n",
    "             \n",
    "except:\n",
    "           [code]    plan b     { control will come to this  except block}\n",
    "           \n",
    "else:\n",
    "           then the control will come to else block it is not imp we can go with or without else.\n",
    "          \n",
    "          \n",
    "           "
   ]
  },
  {
   "cell_type": "code",
   "execution_count": 1,
   "id": "91555bd1",
   "metadata": {},
   "outputs": [],
   "source": [
    "#try:\n",
    "     #you do your operation here .\n",
    "#except exception 1:\n",
    "      #if there is exception 1 then execute this block.\n",
    "#except exception 2\n",
    "      # if there is exception 2 then execute this block.\n",
    "#else:\n",
    "      #if there is no exception we will exceute this block.\n",
    "    \n",
    "                    "
   ]
  },
  {
   "cell_type": "code",
   "execution_count": 2,
   "id": "204d442e",
   "metadata": {},
   "outputs": [],
   "source": [
    "marks_1 = 88\n",
    "subject = 'data science'\n",
    "marks_2 = 33"
   ]
  },
  {
   "cell_type": "code",
   "execution_count": 3,
   "id": "624fc19e",
   "metadata": {},
   "outputs": [
    {
     "name": "stdout",
     "output_type": "stream",
     "text": [
      "you are adding integer to string .make sure such data types are matching\n"
     ]
    }
   ],
   "source": [
    "try:\n",
    "    toatl_marks = marks_1 + subject            #this is a typeerror\n",
    "except TypeError:\n",
    "    print('you are adding integer to string .make sure such data types are matching')\n",
    "else:\n",
    "    print('total marks -' , total_marks)"
   ]
  },
  {
   "cell_type": "code",
   "execution_count": 13,
   "id": "c0a98c1e",
   "metadata": {},
   "outputs": [
    {
     "name": "stdout",
     "output_type": "stream",
     "text": [
      "your car no1\n",
      "name\n",
      "mobile number \n",
      "the name field is required\n",
      "the mobile no field is required\n"
     ]
    }
   ],
   "source": [
    "#real time example \n",
    "try:\n",
    "    car_number = input('your car no')\n",
    "    name = input ('name')\n",
    "    mobile = input ('mobile number ')\n",
    "    if car_number == '':\n",
    "        raise exception\n",
    "    elif name == '':\n",
    "        raise exception\n",
    "    elif mobile == '':\n",
    "        raise exception\n",
    "    else:\n",
    "        pass\n",
    "except:\n",
    "    if car_number == '':\n",
    "        print('\\n the registeration no field is required.\\n')   #\\n is used for move to next line.\n",
    "    if name == '':\n",
    "        print('the name field is required')\n",
    "    if mobile == '':\n",
    "        print('the mobile no field is required')\n",
    "else:\n",
    "    print('thanks for all the details ')    #else part will come to execute when there is no issue with the try block.\n",
    "        \n"
   ]
  },
  {
   "cell_type": "markdown",
   "id": "460917a3",
   "metadata": {},
   "source": [
    "# finally block:\n",
    "final block will excute even if try and except block didn't work . it will work anyhow. this will help us to know if program is not closing in b/w . it is also close the object and clean up . it shows everything is closed."
   ]
  },
  {
   "cell_type": "code",
   "execution_count": 12,
   "id": "30c33cb2",
   "metadata": {},
   "outputs": [
    {
     "name": "stdout",
     "output_type": "stream",
     "text": [
      "your car no11\n",
      "name\n",
      "mobile number \n",
      "the name field is required\n",
      "the mobile no field is required\n",
      "in any case final block will be executed.\n"
     ]
    }
   ],
   "source": [
    "try:\n",
    "    car_number = input('your car no')\n",
    "    name = input ('name')\n",
    "    mobile = input ('mobile number ')\n",
    "    if car_number == '':\n",
    "        raise exception\n",
    "    elif name == '':\n",
    "        raise exception\n",
    "    elif mobile == '':\n",
    "        raise exception\n",
    "    else:\n",
    "        pass\n",
    "except:\n",
    "    if car_number == '':\n",
    "        print('\\n the registeration no field is required.\\n')  \n",
    "    if name == '':\n",
    "        print('the name field is required')\n",
    "    if mobile == '':\n",
    "        print('the mobile no field is required')\n",
    "finally:\n",
    "    print ( 'in any case final block will be executed.')  # it will be written in output every time doesn't matter if the req are fullfilled or not."
   ]
  },
  {
   "cell_type": "code",
   "execution_count": 14,
   "id": "f25003a8",
   "metadata": {},
   "outputs": [],
   "source": [
    "def mobile_no():\n",
    "    try:\n",
    "        val = int(input('please enter your phone number'))\n",
    "    except:\n",
    "        print ('looks like you didnt add an integer')\n",
    "    print(val)    "
   ]
  },
  {
   "cell_type": "code",
   "execution_count": 15,
   "id": "344f74a9",
   "metadata": {},
   "outputs": [
    {
     "name": "stdout",
     "output_type": "stream",
     "text": [
      "please enter your phone numberqwe\n",
      "looks like you didnt add an integer\n"
     ]
    },
    {
     "ename": "UnboundLocalError",
     "evalue": "local variable 'val' referenced before assignment",
     "output_type": "error",
     "traceback": [
      "\u001b[1;31m---------------------------------------------------------------------------\u001b[0m",
      "\u001b[1;31mUnboundLocalError\u001b[0m                         Traceback (most recent call last)",
      "\u001b[1;32m~\\AppData\\Local\\Temp\\ipykernel_12972\\2546479130.py\u001b[0m in \u001b[0;36m<module>\u001b[1;34m\u001b[0m\n\u001b[1;32m----> 1\u001b[1;33m \u001b[0mmobile_no\u001b[0m\u001b[1;33m(\u001b[0m\u001b[1;33m)\u001b[0m\u001b[1;33m\u001b[0m\u001b[1;33m\u001b[0m\u001b[0m\n\u001b[0m",
      "\u001b[1;32m~\\AppData\\Local\\Temp\\ipykernel_12972\\1023332012.py\u001b[0m in \u001b[0;36mmobile_no\u001b[1;34m()\u001b[0m\n\u001b[0;32m      4\u001b[0m     \u001b[1;32mexcept\u001b[0m\u001b[1;33m:\u001b[0m\u001b[1;33m\u001b[0m\u001b[1;33m\u001b[0m\u001b[0m\n\u001b[0;32m      5\u001b[0m         \u001b[0mprint\u001b[0m \u001b[1;33m(\u001b[0m\u001b[1;34m'looks like you didnt add an integer'\u001b[0m\u001b[1;33m)\u001b[0m\u001b[1;33m\u001b[0m\u001b[1;33m\u001b[0m\u001b[0m\n\u001b[1;32m----> 6\u001b[1;33m     \u001b[0mprint\u001b[0m\u001b[1;33m(\u001b[0m\u001b[0mval\u001b[0m\u001b[1;33m)\u001b[0m\u001b[1;33m\u001b[0m\u001b[1;33m\u001b[0m\u001b[0m\n\u001b[0m",
      "\u001b[1;31mUnboundLocalError\u001b[0m: local variable 'val' referenced before assignment"
     ]
    }
   ],
   "source": [
    "mobile_no()"
   ]
  },
  {
   "cell_type": "code",
   "execution_count": 16,
   "id": "688be463",
   "metadata": {},
   "outputs": [
    {
     "name": "stdout",
     "output_type": "stream",
     "text": [
      "please enter your phone number123455\n",
      "123455\n"
     ]
    }
   ],
   "source": [
    "mobile_no()"
   ]
  },
  {
   "cell_type": "raw",
   "id": "7293319f",
   "metadata": {},
   "source": [
    "what if user give less than 10 digit data ."
   ]
  },
  {
   "cell_type": "code",
   "execution_count": 18,
   "id": "1a14f4cc",
   "metadata": {},
   "outputs": [
    {
     "ename": "TypeError",
     "evalue": "object of type 'int' has no len()",
     "output_type": "error",
     "traceback": [
      "\u001b[1;31m---------------------------------------------------------------------------\u001b[0m",
      "\u001b[1;31mTypeError\u001b[0m                                 Traceback (most recent call last)",
      "\u001b[1;32m~\\AppData\\Local\\Temp\\ipykernel_12972\\1965584484.py\u001b[0m in \u001b[0;36m<module>\u001b[1;34m\u001b[0m\n\u001b[0;32m      1\u001b[0m \u001b[0mval\u001b[0m \u001b[1;33m=\u001b[0m \u001b[1;36m9255443308\u001b[0m\u001b[1;33m\u001b[0m\u001b[1;33m\u001b[0m\u001b[0m\n\u001b[1;32m----> 2\u001b[1;33m \u001b[0mlen\u001b[0m\u001b[1;33m(\u001b[0m\u001b[0mval\u001b[0m\u001b[1;33m)\u001b[0m\u001b[1;33m\u001b[0m\u001b[1;33m\u001b[0m\u001b[0m\n\u001b[0m",
      "\u001b[1;31mTypeError\u001b[0m: object of type 'int' has no len()"
     ]
    }
   ],
   "source": [
    "val = 9255443308\n",
    "len(val)     #we can't find intg length we have to convert it into the string."
   ]
  },
  {
   "cell_type": "code",
   "execution_count": 19,
   "id": "ac08e8a4",
   "metadata": {},
   "outputs": [
    {
     "data": {
      "text/plain": [
       "10"
      ]
     },
     "execution_count": 19,
     "metadata": {},
     "output_type": "execute_result"
    }
   ],
   "source": [
    "len(str(val))   #in this way we can find the length of af integers."
   ]
  },
  {
   "cell_type": "code",
   "execution_count": 22,
   "id": "ae5783eb",
   "metadata": {},
   "outputs": [],
   "source": [
    "def mobile_no():\n",
    "    while True:           #we will use while loop to check again and again.\n",
    "        try:\n",
    "            val = int(input('please enter your mobile number'))\n",
    "            if len(str(val)) != 10:          #!n means not equal to.\n",
    "                print('mobile no must be 10 digit')\n",
    "                continue\n",
    "            else:\n",
    "                print('thankyou')\n",
    "                break\n",
    "        except:\n",
    "            print('looks like you didnt add  an integer')\n",
    "            continue"
   ]
  },
  {
   "cell_type": "code",
   "execution_count": 23,
   "id": "e274c155",
   "metadata": {},
   "outputs": [
    {
     "name": "stdout",
     "output_type": "stream",
     "text": [
      "please enter your mobile number22\n",
      "mobile no must be 10 digit\n",
      "please enter your mobile numberqwe\n",
      "looks like you didnt add  an integer\n",
      "please enter your mobile number1234567890\n",
      "thankyou\n"
     ]
    }
   ],
   "source": [
    "mobile_no()    #checking every possiblity."
   ]
  },
  {
   "cell_type": "markdown",
   "id": "b56a6c70",
   "metadata": {},
   "source": [
    "# object oriented programming (oops) concept:\n",
    "real time example : opening a bank account.\n",
    "                   first we will have full information like user name , last name , age , gmail city name etc.\n",
    "                   they register it in their system.whenever we want to see information we will see it in personal tab.there are many tabs money transfer , credit card etc.\n",
    "              "
   ]
  },
  {
   "cell_type": "code",
   "execution_count": 24,
   "id": "d5cb074c",
   "metadata": {},
   "outputs": [],
   "source": [
    "#class = class is a blueprint (eg = we will make a map in which every thing realated will be shown.)\n",
    "#eg = for example if there is map house (everything relate to house , bathroom , room etc will be shown in this map)\n",
    "#class = we need to create an object which keeps similar information."
   ]
  },
  {
   "cell_type": "code",
   "execution_count": 25,
   "id": "32f91b6e",
   "metadata": {},
   "outputs": [
    {
     "data": {
      "text/plain": [
       "4.0"
      ]
     },
     "execution_count": 25,
     "metadata": {},
     "output_type": "execute_result"
    }
   ],
   "source": [
    "# 1. eg bank account is class.\n",
    "# 2. __init__(self) will register your details with bank.  (two underscore before and after init)\n",
    "   # init means initialized (our details with bank will be initialized with bank.)\n",
    "3. #self will give you back your details whenever you cick various tabs.\n",
    "4. # login , personal infromation and passwords change are methods.\n"
   ]
  },
  {
   "cell_type": "code",
   "execution_count": 26,
   "id": "8d42ee6f",
   "metadata": {},
   "outputs": [],
   "source": [
    "#objet = 1.class 2.init 3. methods #(3 and 4 together will become methods)\n",
    "          "
   ]
  },
  {
   "cell_type": "code",
   "execution_count": 27,
   "id": "9a773aed",
   "metadata": {},
   "outputs": [],
   "source": [
    "#object = with object we can do various work. everything will be converted into object . through this objectwe can do anything\n",
    "# that's why it is known as object orientated programming"
   ]
  },
  {
   "cell_type": "code",
   "execution_count": 28,
   "id": "ec161970",
   "metadata": {},
   "outputs": [],
   "source": [
    "#how to define a class = suppose we want to make a class\n",
    "#syntax\n",
    "#class classname(base_classes):\n",
    "        #statements\n",
    "      #classname always should be in upperclass"
   ]
  },
  {
   "cell_type": "code",
   "execution_count": 29,
   "id": "89548187",
   "metadata": {},
   "outputs": [],
   "source": [
    "class Account:\n",
    "    pass"
   ]
  },
  {
   "cell_type": "code",
   "execution_count": 31,
   "id": "8224c413",
   "metadata": {},
   "outputs": [],
   "source": [
    "class Account:\n",
    "    def __init__(self ,name,lastname, city, user_id , phone_no , password):\n",
    "        self.name = name \n",
    "        self.lastname= lastname\n",
    "        self.city = city\n",
    "        self.user_id = user_id\n",
    "        self.password = password\n",
    "        self.phone_no = phone_no\n",
    "        "
   ]
  },
  {
   "cell_type": "code",
   "execution_count": null,
   "id": "04f0f24f",
   "metadata": {},
   "outputs": [],
   "source": [
    "class Acccount:\n",
    "    def __init__ self.name = input('enter your name ')\n",
    "                      lastname = input()"
   ]
  }
 ],
 "metadata": {
  "kernelspec": {
   "display_name": "Python 3 (ipykernel)",
   "language": "python",
   "name": "python3"
  },
  "language_info": {
   "codemirror_mode": {
    "name": "ipython",
    "version": 3
   },
   "file_extension": ".py",
   "mimetype": "text/x-python",
   "name": "python",
   "nbconvert_exporter": "python",
   "pygments_lexer": "ipython3",
   "version": "3.9.13"
  }
 },
 "nbformat": 4,
 "nbformat_minor": 5
}
